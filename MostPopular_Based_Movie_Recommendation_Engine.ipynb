{
 "cells": [
  {
   "cell_type": "code",
   "execution_count": 3,
   "metadata": {},
   "outputs": [],
   "source": [
    "import pandas as pd\n",
    "import random"
   ]
  },
  {
   "cell_type": "code",
   "execution_count": 2,
   "metadata": {},
   "outputs": [],
   "source": []
  },
  {
   "cell_type": "code",
   "execution_count": null,
   "metadata": {},
   "outputs": [],
   "source": [
    "class MostPopular():\n",
    "    # 初始化参数\n",
    "    def __init__(self):\n",
    "        # 训练集与测试集\n",
    "        self.train = {}\n",
    "        self.test = {}\n",
    "        \n",
    "        # 电影元数据\n",
    "        self.md = 0\n",
    "        \n",
    "        self.pivot = 0.7\n",
    "        \n",
    "    # 载入数据    \n",
    "    def load_file(filepath):\n",
    "        with open(filepath, 'r') as f:\n",
    "            for i, line in enumerate(f):\n",
    "                if i == 0:\n",
    "                    continue\n",
    "                yield line.split('\\r\\n')\n",
    "        print(\"Succeed in loading file!\")\n",
    "        \n",
    "    \n",
    "    # 划分训练、测试数据集\n",
    "    def get_dataset(self, filepath):\n",
    "        train_len = 0\n",
    "        test_len  = 0\n",
    "        for line in self.load_file(filepath):\n",
    "            user, movie, rating, timestamp = line.split(',')\n",
    "            if random.random() < self.pivot:\n",
    "                self.train.setdefault(user,{})\n",
    "                self.train[user][movie] = rating\n",
    "                train_len += 1\n",
    "            else\n",
    "            self.test.setdefault(user, {})\n",
    "            self.test[user][movie] = rating\n",
    "            test_len += 1\n",
    "        print('Succeed in spliting training dataset and testing dataset!')\n",
    "        print('Training dataset = %d' % train_len)\n",
    "        print('Testing dataset = %d' % train_len)\n",
    "\n",
    "        \n",
    "    # 计算电影评分（被评次数、平均评分、评分权重）\n",
    "    def movie_metadata(self, movies_csv, ratings_csv):\n",
    "        movies = pd.read_csv(movies_csv)\n",
    "        ratings = pd.read_csv(ratings_csv)\n",
    "        "
   ]
  },
  {
   "cell_type": "code",
   "execution_count": null,
   "metadata": {},
   "outputs": [],
   "source": []
  }
 ],
 "metadata": {
  "kernelspec": {
   "display_name": "Python 3",
   "language": "python",
   "name": "python3"
  },
  "language_info": {
   "codemirror_mode": {
    "name": "ipython",
    "version": 3
   },
   "file_extension": ".py",
   "mimetype": "text/x-python",
   "name": "python",
   "nbconvert_exporter": "python",
   "pygments_lexer": "ipython3",
   "version": "3.6.5"
  }
 },
 "nbformat": 4,
 "nbformat_minor": 2
}

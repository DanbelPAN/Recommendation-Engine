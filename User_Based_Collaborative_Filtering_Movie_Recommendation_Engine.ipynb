{
 "cells": [
  {
   "cell_type": "code",
   "execution_count": 1,
   "metadata": {},
   "outputs": [],
   "source": [
    "import random\n",
    "import math\n",
    "from operator import itemgetter"
   ]
  },
  {
   "cell_type": "code",
   "execution_count": 65,
   "metadata": {},
   "outputs": [],
   "source": [
    "class UserBasedCF():\n",
    "    # 初始化相关参数\n",
    "    def __init__(self):\n",
    "        # 找到与目标用户兴趣相似的20个用户,为其推荐10部电影\n",
    "        self.n_sim_user = 10\n",
    "        self.n_rec_movie = 10\n",
    "        \n",
    "        # 将数据集划分为训练集和测试集\n",
    "        self.train_dataset = {}\n",
    "        self.test_dataset = {}\n",
    "        \n",
    "        # 用户相似度矩阵\n",
    "        self.user_sim_matrix = {}\n",
    "        self.movie_count = 0\n",
    "        \n",
    "        print('Similar user number = %d' % self.n_sim_user)\n",
    "        print('Recommended movie number = %d' % self.n_rec_movie)\n",
    "        \n",
    "    \n",
    "    # 建立“用户-电影”表\n",
    "    def get_dataset(self, filename, pivot = 0.75):\n",
    "        train_dataset_len = 0\n",
    "        test_dataset_len = 0\n",
    "        for line in self.load_file(filename):\n",
    "            user, movie, rating, timetamp = line.split(',')\n",
    "            if random.random() < pivot:\n",
    "                self.train_dataset.setdefault(user, {})\n",
    "                self.train_dataset[user][movie] = rating\n",
    "                train_dataset_len += 1\n",
    "            else:\n",
    "                self.test_dataset.setdefault(user, {})\n",
    "                self.test_dataset[user][movie] =  rating\n",
    "                test_dataset_len += 1\n",
    "        print('Split training dataset and testing dataset success!')\n",
    "        print('Training dataset = %d' % train_dataset_len)\n",
    "        print('Testing dataset = %d' % test_dataset_len)\n",
    "        \n",
    "        \n",
    "    # 载入数据集文件, 并返回文件的每一行\n",
    "    def load_file(self, filename):\n",
    "        with open(filename, 'r') as f:\n",
    "            for i, line in enumerate(f):\n",
    "                if i == 0: # 去掉表格的第一行, 即列名\n",
    "                    continue\n",
    "                yield line.strip('\\r\\n')\n",
    "        print('Load % s success!' % filename)\n",
    "            \n",
    "        \n",
    "    # 计算用户之间的相似度\n",
    "    def cal_user_sim(self):\n",
    "        # 构件“电影-用户”倒排索引\n",
    "        # key = movieId, value = list of userId who have seen this movie\n",
    "        print('Building movie-user table...')\n",
    "        movie_user = {}\n",
    "        for user, movies in self.train_dataset.items():\n",
    "            for movie in movies:\n",
    "                if movie not in movie_user:\n",
    "                    movie_user[movie] = set()\n",
    "                movie_user[movie].add(user)\n",
    "        print('Build movie-user table success!')\n",
    "            \n",
    "        self.movie_count = len(movie_user)\n",
    "        print('Total movie number = %d' % self.movie_count)\n",
    "            \n",
    "        print('Build user co-rated movies matrix...')\n",
    "        for movie, users in movie_user.items():\n",
    "            for u in users:\n",
    "                for v in users:\n",
    "                    if u == v:\n",
    "                        continue\n",
    "                    self.user_sim_matrix.setdefault(u, {})\n",
    "                    self.user_sim_matrix[u].setdefault(v, 0)\n",
    "                    self.user_sim_matrix[u][v] += 1\n",
    "        print('Build user co-rated movies matrix success!')\n",
    "            \n",
    "        # 计算相似性\n",
    "        print('Calculating user similarity matrix...')\n",
    "        for u, related_users in self.user_sim_matrix.items():\n",
    "            for v, count in related_users.items():\n",
    "                n_u = len(self.train_dataset[u])\n",
    "                n_v = len(self.test_dataset[v])\n",
    "                self.user_sim_matrix[u][v] = count / math.sqrt(n_u * n_v)\n",
    "        print('Calculate user similarity matrix success!')\n",
    "            \n",
    "            \n",
    "    def recommend(self, user):\n",
    "        k = self.n_sim_user\n",
    "        n = self.n_rec_movie\n",
    "        rank = {}\n",
    "        watched_movies = self.train_dataset[user]\n",
    "            \n",
    "        # v=similar user, w_uv = similar factor\n",
    "        k_sim_users = sorted(self.user_sim_matrix[user].items(),\n",
    "                            key=itemgetter(1), reverse=True)[0:k]\n",
    "        for v,w_uv in k_sim_users:\n",
    "            for movie, rating in self.train_dataset[v].items():\n",
    "                if movie in watched_movies:\n",
    "                    continue\n",
    "                rank.setdefault(movie, 0)\n",
    "                rank[movie] += w_uv\n",
    "        return sorted(rank.items(), key=itemgetter(1), reverse=True)[0:n]\n",
    "        \n",
    "\n",
    "    # 产生推荐并通过准确率、召回率和覆盖率进行评估\n",
    "    def evaluate(self):\n",
    "        print('Evaluation start...')\n",
    "        n = self.n_rec_movie\n",
    "        # 准确率和召回率\n",
    "        hit = 0\n",
    "        rec_count = 0\n",
    "        test_count = 0\n",
    "        # 覆盖率\n",
    "        all_rec_movies = set()\n",
    "        \n",
    "        for i, user in enumerate(self.train_dataset):\n",
    "            test_movies = self.test_dataset.get(user, {})\n",
    "            rec_movies = self.recommend(user)\n",
    "            for movie, w in rec_movies:\n",
    "                if movie in test_movies:\n",
    "                    hit += 1\n",
    "                all_rec_movies.add(movie)\n",
    "            rec_count += n\n",
    "            test_count += len(test_movies)\n",
    "            \n",
    "        precision = hit / rec_count\n",
    "        recall    = hit / test_count\n",
    "        coverate  = len(all_rec_movies) / self.movie_count\n",
    "        result = (precision, recall, coverate)\n",
    "        print('Precision = %.4f\\nRecall = %.4f\\nCoverage = %.4f' % result)"
   ]
  },
  {
   "cell_type": "code",
   "execution_count": 66,
   "metadata": {},
   "outputs": [
    {
     "name": "stdout",
     "output_type": "stream",
     "text": [
      "Similar user number = 10\n",
      "Recommended movie number = 10\n",
      "Load ./input_data/small/ratings.csv success!\n",
      "Split training dataset and testing dataset success!\n",
      "Training dataset = 75700\n",
      "Testing dataset = 25136\n",
      "Building movie-user table...\n",
      "Build movie-user table success!\n",
      "Total movie number = 8845\n",
      "Build user co-rated movies matrix...\n",
      "Build user co-rated movies matrix success!\n",
      "Calculating user similarity matrix...\n",
      "Calculate user similarity matrix success!\n",
      "Evaluation start...\n",
      "Precision = 0.2844\n",
      "Recall = 0.0690\n",
      "Coverage = 0.0559\n"
     ]
    }
   ],
   "source": [
    "if __name__ == '__main__':\n",
    "    rating_file = './input_data/small/ratings.csv'\n",
    "    userCF = UserBasedCF()\n",
    "    userCF.get_dataset(rating_file)\n",
    "    userCF.cal_user_sim()\n",
    "    userCF.evaluate()"
   ]
  },
  {
   "cell_type": "code",
   "execution_count": null,
   "metadata": {},
   "outputs": [],
   "source": []
  },
  {
   "cell_type": "code",
   "execution_count": null,
   "metadata": {},
   "outputs": [],
   "source": []
  },
  {
   "cell_type": "code",
   "execution_count": null,
   "metadata": {},
   "outputs": [],
   "source": []
  },
  {
   "cell_type": "code",
   "execution_count": null,
   "metadata": {},
   "outputs": [],
   "source": []
  },
  {
   "cell_type": "code",
   "execution_count": null,
   "metadata": {},
   "outputs": [],
   "source": []
  },
  {
   "cell_type": "code",
   "execution_count": null,
   "metadata": {},
   "outputs": [],
   "source": []
  },
  {
   "cell_type": "code",
   "execution_count": null,
   "metadata": {},
   "outputs": [],
   "source": []
  },
  {
   "cell_type": "code",
   "execution_count": null,
   "metadata": {},
   "outputs": [],
   "source": []
  },
  {
   "cell_type": "code",
   "execution_count": null,
   "metadata": {},
   "outputs": [],
   "source": []
  },
  {
   "cell_type": "code",
   "execution_count": null,
   "metadata": {},
   "outputs": [],
   "source": []
  },
  {
   "cell_type": "code",
   "execution_count": null,
   "metadata": {},
   "outputs": [],
   "source": []
  },
  {
   "cell_type": "code",
   "execution_count": null,
   "metadata": {},
   "outputs": [],
   "source": []
  },
  {
   "cell_type": "code",
   "execution_count": null,
   "metadata": {},
   "outputs": [],
   "source": []
  },
  {
   "cell_type": "code",
   "execution_count": null,
   "metadata": {},
   "outputs": [],
   "source": []
  },
  {
   "cell_type": "code",
   "execution_count": null,
   "metadata": {},
   "outputs": [],
   "source": []
  },
  {
   "cell_type": "code",
   "execution_count": null,
   "metadata": {},
   "outputs": [],
   "source": []
  },
  {
   "cell_type": "code",
   "execution_count": null,
   "metadata": {},
   "outputs": [],
   "source": []
  },
  {
   "cell_type": "code",
   "execution_count": null,
   "metadata": {},
   "outputs": [],
   "source": []
  },
  {
   "cell_type": "code",
   "execution_count": null,
   "metadata": {},
   "outputs": [],
   "source": []
  },
  {
   "cell_type": "code",
   "execution_count": null,
   "metadata": {},
   "outputs": [],
   "source": []
  },
  {
   "cell_type": "code",
   "execution_count": null,
   "metadata": {},
   "outputs": [],
   "source": []
  },
  {
   "cell_type": "code",
   "execution_count": null,
   "metadata": {},
   "outputs": [],
   "source": []
  },
  {
   "cell_type": "code",
   "execution_count": null,
   "metadata": {},
   "outputs": [],
   "source": []
  }
 ],
 "metadata": {
  "kernelspec": {
   "display_name": "Python 3",
   "language": "python",
   "name": "python3"
  },
  "language_info": {
   "codemirror_mode": {
    "name": "ipython",
    "version": 3
   },
   "file_extension": ".py",
   "mimetype": "text/x-python",
   "name": "python",
   "nbconvert_exporter": "python",
   "pygments_lexer": "ipython3",
   "version": "3.6.5"
  }
 },
 "nbformat": 4,
 "nbformat_minor": 2
}
